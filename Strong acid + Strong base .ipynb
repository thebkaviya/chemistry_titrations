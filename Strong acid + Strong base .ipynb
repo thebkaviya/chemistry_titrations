{
 "cells": [
  {
   "cell_type": "code",
   "execution_count": null,
   "metadata": {},
   "outputs": [],
   "source": [
    "v_titre = []\n",
    "for i in range(0,50+1):\n",
    "    v_titre.append(round(i*0.001,4))\n",
    "print(v_titre)"
   ]
  },
  {
   "cell_type": "code",
   "execution_count": null,
   "metadata": {},
   "outputs": [],
   "source": [
    "c_titre = c_analyte = 1\n",
    "v_analyte = 0.025\n",
    "\n"
   ]
  },
  {
   "cell_type": "code",
   "execution_count": null,
   "metadata": {},
   "outputs": [],
   "source": [
    "n_titre = c_titre * v_titre\n",
    "n_analyte = c_analyte * v_analyte \n",
    "\n"
   ]
  },
  {
   "cell_type": "code",
   "execution_count": null,
   "metadata": {},
   "outputs": [],
   "source": [
    "import math\n",
    "\n",
    "for i in v_titre:\n",
    "    if n_titre < n_analyte:\n",
    "        ph = -1 * math.log((n_analyte - n_titre) /  )"
   ]
  }
 ],
 "metadata": {
  "language_info": {
   "name": "python"
  }
 },
 "nbformat": 4,
 "nbformat_minor": 2
}
